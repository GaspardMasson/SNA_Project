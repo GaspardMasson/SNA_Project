{
 "cells": [
  {
   "cell_type": "code",
   "execution_count": 42,
   "metadata": {},
   "outputs": [],
   "source": [
    "import pandas as pd"
   ]
  },
  {
   "cell_type": "code",
   "execution_count": 43,
   "metadata": {},
   "outputs": [],
   "source": [
    "dolphins = pd.read_csv('outputs/dolphins_dataset.csv')"
   ]
  },
  {
   "cell_type": "code",
   "execution_count": 44,
   "metadata": {},
   "outputs": [
    {
     "data": {
      "text/html": [
       "<div>\n",
       "<style scoped>\n",
       "    .dataframe tbody tr th:only-of-type {\n",
       "        vertical-align: middle;\n",
       "    }\n",
       "\n",
       "    .dataframe tbody tr th {\n",
       "        vertical-align: top;\n",
       "    }\n",
       "\n",
       "    .dataframe thead th {\n",
       "        text-align: right;\n",
       "    }\n",
       "</style>\n",
       "<table border=\"1\" class=\"dataframe\">\n",
       "  <thead>\n",
       "    <tr style=\"text-align: right;\">\n",
       "      <th></th>\n",
       "      <th>Unnamed: 0</th>\n",
       "      <th>1</th>\n",
       "      <th>2</th>\n",
       "      <th>3</th>\n",
       "      <th>4</th>\n",
       "      <th>degree</th>\n",
       "      <th>betweenness</th>\n",
       "      <th>closeness</th>\n",
       "      <th>eigenvector</th>\n",
       "      <th>pagerank</th>\n",
       "      <th>...</th>\n",
       "      <th>lin</th>\n",
       "      <th>communicabilitybetweenness</th>\n",
       "      <th>katz</th>\n",
       "      <th>radiality</th>\n",
       "      <th>markov</th>\n",
       "      <th>laplacian</th>\n",
       "      <th>barycenter</th>\n",
       "      <th>bottleneck</th>\n",
       "      <th>entropy</th>\n",
       "      <th>crossclique</th>\n",
       "    </tr>\n",
       "  </thead>\n",
       "  <tbody>\n",
       "    <tr>\n",
       "      <th>0</th>\n",
       "      <td>1</td>\n",
       "      <td>-0.053255</td>\n",
       "      <td>-0.071400</td>\n",
       "      <td>-0.071400</td>\n",
       "      <td>1</td>\n",
       "      <td>6</td>\n",
       "      <td>34.921151</td>\n",
       "      <td>0.005682</td>\n",
       "      <td>0.406936</td>\n",
       "      <td>0.016965</td>\n",
       "      <td>...</td>\n",
       "      <td>21.142045</td>\n",
       "      <td>305.327914</td>\n",
       "      <td>3.036264</td>\n",
       "      <td>6.262295</td>\n",
       "      <td>0.013881</td>\n",
       "      <td>130</td>\n",
       "      <td>0.005682</td>\n",
       "      <td>5</td>\n",
       "      <td>9.861475</td>\n",
       "      <td>13</td>\n",
       "    </tr>\n",
       "    <tr>\n",
       "      <th>1</th>\n",
       "      <td>2</td>\n",
       "      <td>0.071936</td>\n",
       "      <td>0.150004</td>\n",
       "      <td>0.278562</td>\n",
       "      <td>3</td>\n",
       "      <td>8</td>\n",
       "      <td>390.383717</td>\n",
       "      <td>0.006098</td>\n",
       "      <td>0.133244</td>\n",
       "      <td>0.024651</td>\n",
       "      <td>...</td>\n",
       "      <td>22.689024</td>\n",
       "      <td>1044.920267</td>\n",
       "      <td>3.020277</td>\n",
       "      <td>6.459016</td>\n",
       "      <td>0.014224</td>\n",
       "      <td>162</td>\n",
       "      <td>0.006098</td>\n",
       "      <td>57</td>\n",
       "      <td>9.861475</td>\n",
       "      <td>13</td>\n",
       "    </tr>\n",
       "    <tr>\n",
       "      <th>2</th>\n",
       "      <td>3</td>\n",
       "      <td>-0.071827</td>\n",
       "      <td>-0.053255</td>\n",
       "      <td>-0.053255</td>\n",
       "      <td>2</td>\n",
       "      <td>4</td>\n",
       "      <td>16.603247</td>\n",
       "      <td>0.004630</td>\n",
       "      <td>0.125900</td>\n",
       "      <td>0.013338</td>\n",
       "      <td>...</td>\n",
       "      <td>17.226852</td>\n",
       "      <td>62.308426</td>\n",
       "      <td>1.914140</td>\n",
       "      <td>5.606557</td>\n",
       "      <td>0.008501</td>\n",
       "      <td>56</td>\n",
       "      <td>0.004630</td>\n",
       "      <td>2</td>\n",
       "      <td>9.861475</td>\n",
       "      <td>6</td>\n",
       "    </tr>\n",
       "    <tr>\n",
       "      <th>3</th>\n",
       "      <td>4</td>\n",
       "      <td>-0.061022</td>\n",
       "      <td>-0.043327</td>\n",
       "      <td>-0.043327</td>\n",
       "      <td>2</td>\n",
       "      <td>3</td>\n",
       "      <td>4.344048</td>\n",
       "      <td>0.005051</td>\n",
       "      <td>0.251232</td>\n",
       "      <td>0.009629</td>\n",
       "      <td>...</td>\n",
       "      <td>18.792929</td>\n",
       "      <td>75.326126</td>\n",
       "      <td>2.110351</td>\n",
       "      <td>5.901639</td>\n",
       "      <td>0.007371</td>\n",
       "      <td>58</td>\n",
       "      <td>0.005051</td>\n",
       "      <td>0</td>\n",
       "      <td>9.861475</td>\n",
       "      <td>5</td>\n",
       "    </tr>\n",
       "    <tr>\n",
       "      <th>4</th>\n",
       "      <td>5</td>\n",
       "      <td>-0.061022</td>\n",
       "      <td>-0.058494</td>\n",
       "      <td>-0.061022</td>\n",
       "      <td>2</td>\n",
       "      <td>1</td>\n",
       "      <td>0.000000</td>\n",
       "      <td>0.004082</td>\n",
       "      <td>0.092745</td>\n",
       "      <td>0.005080</td>\n",
       "      <td>...</td>\n",
       "      <td>15.187755</td>\n",
       "      <td>9.273650</td>\n",
       "      <td>1.406011</td>\n",
       "      <td>5.131148</td>\n",
       "      <td>0.002666</td>\n",
       "      <td>22</td>\n",
       "      <td>0.004082</td>\n",
       "      <td>0</td>\n",
       "      <td>9.861475</td>\n",
       "      <td>2</td>\n",
       "    </tr>\n",
       "  </tbody>\n",
       "</table>\n",
       "<p>5 rows × 23 columns</p>\n",
       "</div>"
      ],
      "text/plain": [
       "   Unnamed: 0         1         2         3  4  degree  betweenness  \\\n",
       "0           1 -0.053255 -0.071400 -0.071400  1       6    34.921151   \n",
       "1           2  0.071936  0.150004  0.278562  3       8   390.383717   \n",
       "2           3 -0.071827 -0.053255 -0.053255  2       4    16.603247   \n",
       "3           4 -0.061022 -0.043327 -0.043327  2       3     4.344048   \n",
       "4           5 -0.061022 -0.058494 -0.061022  2       1     0.000000   \n",
       "\n",
       "   closeness  eigenvector  pagerank  ...        lin  \\\n",
       "0   0.005682     0.406936  0.016965  ...  21.142045   \n",
       "1   0.006098     0.133244  0.024651  ...  22.689024   \n",
       "2   0.004630     0.125900  0.013338  ...  17.226852   \n",
       "3   0.005051     0.251232  0.009629  ...  18.792929   \n",
       "4   0.004082     0.092745  0.005080  ...  15.187755   \n",
       "\n",
       "   communicabilitybetweenness      katz  radiality    markov  laplacian  \\\n",
       "0                  305.327914  3.036264   6.262295  0.013881        130   \n",
       "1                 1044.920267  3.020277   6.459016  0.014224        162   \n",
       "2                   62.308426  1.914140   5.606557  0.008501         56   \n",
       "3                   75.326126  2.110351   5.901639  0.007371         58   \n",
       "4                    9.273650  1.406011   5.131148  0.002666         22   \n",
       "\n",
       "   barycenter  bottleneck   entropy  crossclique  \n",
       "0    0.005682           5  9.861475           13  \n",
       "1    0.006098          57  9.861475           13  \n",
       "2    0.004630           2  9.861475            6  \n",
       "3    0.005051           0  9.861475            5  \n",
       "4    0.004082           0  9.861475            2  \n",
       "\n",
       "[5 rows x 23 columns]"
      ]
     },
     "execution_count": 44,
     "metadata": {},
     "output_type": "execute_result"
    }
   ],
   "source": [
    "dolphins.head()"
   ]
  },
  {
   "cell_type": "code",
   "execution_count": 45,
   "metadata": {},
   "outputs": [],
   "source": [
    "dolphins.drop(['Unnamed: 0',\"1\",\"2\",\"3\"], axis=1, inplace=True)"
   ]
  },
  {
   "cell_type": "code",
   "execution_count": 46,
   "metadata": {},
   "outputs": [],
   "source": [
    "# convert 4 to category\n",
    "dolphins['4'] = dolphins['4'].astype('category')"
   ]
  },
  {
   "cell_type": "code",
   "execution_count": 47,
   "metadata": {},
   "outputs": [],
   "source": [
    "# import train_test_split\n",
    "from sklearn.model_selection import train_test_split\n",
    "\n",
    "y = dolphins['4']\n",
    "X = dolphins.drop(['4'], axis=1)\n",
    "\n",
    "X_train, X_test, y_train, y_test = train_test_split(X, y, test_size=0.2)"
   ]
  },
  {
   "cell_type": "code",
   "execution_count": 48,
   "metadata": {},
   "outputs": [
    {
     "data": {
      "text/plain": [
       "0.38461538461538464"
      ]
     },
     "execution_count": 48,
     "metadata": {},
     "output_type": "execute_result"
    }
   ],
   "source": [
    "# import RandomForestClassifier\n",
    "from sklearn.ensemble import RandomForestClassifier\n",
    "\n",
    "# instantiate RandomForestClassifier\n",
    "rf = RandomForestClassifier()\n",
    "\n",
    "# fit the model\n",
    "rf.fit(X_train, y_train)\n",
    "\n",
    "# import accuracy_score\n",
    "from sklearn.metrics import accuracy_score\n",
    "\n",
    "# predict on the test set\n",
    "y_pred = rf.predict(X_test)\n",
    "\n",
    "# evaluate the model\n",
    "accuracy_score(y_test, y_pred)"
   ]
  },
  {
   "cell_type": "code",
   "execution_count": 49,
   "metadata": {},
   "outputs": [
    {
     "data": {
      "image/png": "[encoded data removed]",
      "text/plain": [
       "<Figure size 1000x600 with 1 Axes>"
      ]
     },
     "metadata": {},
     "output_type": "display_data"
    }
   ],
   "source": [
    "# feature importance\n",
    "rf.feature_importances_\n",
    "\n",
    "# import matplotlib\n",
    "import matplotlib.pyplot as plt\n",
    "\n",
    "# plot the feature importance and sort them in descending order\n",
    "plt.figure(figsize=(10, 6))\n",
    "plt.barh(X.columns, rf.feature_importances_)\n",
    "plt.title('Feature Importance')\n",
    "plt.xlabel('Importance')\n",
    "plt.ylabel('Feature')\n",
    "plt.show()"
   ]
  },
  {
   "cell_type": "code",
   "execution_count": 50,
   "metadata": {},
   "outputs": [
    {
     "data": {
      "text/plain": [
       "4                             category\n",
       "degree                           int64\n",
       "betweenness                    float64\n",
       "closeness                      float64\n",
       "eigenvector                    float64\n",
       "pagerank                       float64\n",
       "geodesickpath                    int64\n",
       "decay                          float64\n",
       "leverage                       float64\n",
       "lin                            float64\n",
       "communicabilitybetweenness     float64\n",
       "katz                           float64\n",
       "radiality                      float64\n",
       "markov                         float64\n",
       "laplacian                        int64\n",
       "barycenter                     float64\n",
       "bottleneck                       int64\n",
       "entropy                        float64\n",
       "crossclique                      int64\n",
       "dtype: object"
      ]
     },
     "execution_count": 50,
     "metadata": {},
     "output_type": "execute_result"
    }
   ],
   "source": [
    "dolphins.dtypes"
   ]
  },
  {
   "cell_type": "code",
   "execution_count": 51,
   "metadata": {},
   "outputs": [
    {
     "name": "stdout",
     "output_type": "stream",
     "text": [
      "Detected RandomForestClassifier model: Changing class type to RandomForestClassifierExplainer...\n",
      "Note: model_output=='probability', so assuming that raw shap output of RandomForestClassifier is in probability space...\n",
      "Generating self.shap_explainer = shap.TreeExplainer(model)\n",
      "Building ExplainerDashboard..\n",
      "Detected notebook environment, consider setting mode='external', mode='inline' or mode='jupyterlab' to keep the notebook interactive while the dashboard is running...\n",
      "Warning: calculating shap interaction values can be slow! Pass shap_interaction=False to remove interactions tab.\n",
      "Generating layout...\n",
      "Calculating shap values...\n",
      "Calculating prediction probabilities...\n",
      "Calculating metrics...\n"
     ]
    },
    {
     "name": "stderr",
     "output_type": "stream",
     "text": [
      "c:\\Users\\gaspa\\AppData\\Local\\Programs\\Python\\Python310\\lib\\site-packages\\sklearn\\metrics\\_classification.py:1334: UndefinedMetricWarning:\n",
      "\n",
      "Recall is ill-defined and being set to 0.0 due to no true samples. Use `zero_division` parameter to control this behavior.\n",
      "\n"
     ]
    },
    {
     "ename": "ValueError",
     "evalue": "Only one class present in y_true. ROC AUC score is not defined in that case.",
     "output_type": "error",
     "traceback": [
      "\u001b[1;31m---------------------------------------------------------------------------\u001b[0m",
      "\u001b[1;31mValueError\u001b[0m                                Traceback (most recent call last)",
      "Cell \u001b[1;32mIn [51], line 3\u001b[0m\n\u001b[0;32m      1\u001b[0m \u001b[39mfrom\u001b[39;00m \u001b[39mexplainerdashboard\u001b[39;00m \u001b[39mimport\u001b[39;00m ClassifierExplainer, ExplainerDashboard\n\u001b[1;32m----> 3\u001b[0m ExplainerDashboard(ClassifierExplainer(rf, X_test, y_test,labels\u001b[39m=\u001b[39m[\u001b[39m\"\u001b[39m\u001b[39mmod_L\u001b[39m\u001b[39m\"\u001b[39m,\u001b[39m\"\u001b[39m\u001b[39mmod_R\u001b[39m\u001b[39m\"\u001b[39m,\u001b[39m\"\u001b[39m\u001b[39mmod_M\u001b[39m\u001b[39m\"\u001b[39m]), title\u001b[39m=\u001b[39m\u001b[39m\"\u001b[39m\u001b[39mDolphins\u001b[39m\u001b[39m\"\u001b[39m, model_summary\u001b[39m=\u001b[39m\u001b[39mTrue\u001b[39;00m,hide_rocauc\u001b[39m=\u001b[39m\u001b[39mTrue\u001b[39;00m)\u001b[39m.\u001b[39mrun()\n",
      "File \u001b[1;32mc:\\Users\\gaspa\\AppData\\Local\\Programs\\Python\\Python310\\lib\\site-packages\\explainerdashboard\\dashboards.py:591\u001b[0m, in \u001b[0;36mExplainerDashboard.__init__\u001b[1;34m(self, explainer, tabs, title, name, description, simple, hide_header, header_hide_title, header_hide_selector, header_hide_download, hide_poweredby, block_selector_callbacks, pos_label, fluid, mode, width, height, bootstrap, external_stylesheets, server, url_base_pathname, routes_pathname_prefix, requests_pathname_prefix, responsive, logins, port, importances, model_summary, contributions, whatif, shap_dependence, shap_interaction, decision_trees, **kwargs)\u001b[0m\n\u001b[0;32m    589\u001b[0m \u001b[39mif\u001b[39;00m \u001b[39misinstance\u001b[39m(tabs, \u001b[39mlist\u001b[39m):\n\u001b[0;32m    590\u001b[0m     tabs \u001b[39m=\u001b[39m [\u001b[39mself\u001b[39m\u001b[39m.\u001b[39m_convert_str_tabs(tab) \u001b[39mfor\u001b[39;00m tab \u001b[39min\u001b[39;00m tabs]\n\u001b[1;32m--> 591\u001b[0m     \u001b[39mself\u001b[39m\u001b[39m.\u001b[39mexplainer_layout \u001b[39m=\u001b[39m ExplainerTabsLayout(explainer, tabs, title, \n\u001b[0;32m    592\u001b[0m                     description\u001b[39m=\u001b[39m\u001b[39mself\u001b[39m\u001b[39m.\u001b[39mdescription,\n\u001b[0;32m    593\u001b[0m                     \u001b[39m*\u001b[39m\u001b[39m*\u001b[39mupdate_kwargs(kwargs, \n\u001b[0;32m    594\u001b[0m                         header_hide_title\u001b[39m=\u001b[39m\u001b[39mself\u001b[39m\u001b[39m.\u001b[39mheader_hide_title, \n\u001b[0;32m    595\u001b[0m                         header_hide_selector\u001b[39m=\u001b[39m\u001b[39mself\u001b[39m\u001b[39m.\u001b[39mheader_hide_selector, \n\u001b[0;32m    596\u001b[0m                         header_hide_download\u001b[39m=\u001b[39m\u001b[39mself\u001b[39m\u001b[39m.\u001b[39mheader_hide_download, \n\u001b[0;32m    597\u001b[0m                         hide_poweredby\u001b[39m=\u001b[39m\u001b[39mself\u001b[39m\u001b[39m.\u001b[39mhide_poweredby,\n\u001b[0;32m    598\u001b[0m                         block_selector_callbacks\u001b[39m=\u001b[39m\u001b[39mself\u001b[39m\u001b[39m.\u001b[39mblock_selector_callbacks,\n\u001b[0;32m    599\u001b[0m                         pos_label\u001b[39m=\u001b[39m\u001b[39mself\u001b[39m\u001b[39m.\u001b[39mpos_label,\n\u001b[0;32m    600\u001b[0m                         fluid\u001b[39m=\u001b[39mfluid))\n\u001b[0;32m    601\u001b[0m \u001b[39melse\u001b[39;00m:\n\u001b[0;32m    602\u001b[0m     tabs \u001b[39m=\u001b[39m \u001b[39mself\u001b[39m\u001b[39m.\u001b[39m_convert_str_tabs(tabs)\n",
      "File \u001b[1;32mc:\\Users\\gaspa\\AppData\\Local\\Programs\\Python\\Python310\\lib\\site-packages\\explainerdashboard\\dashboards.py:108\u001b[0m, in \u001b[0;36mExplainerTabsLayout.__init__\u001b[1;34m(self, explainer, tabs, title, name, description, header_hide_title, header_hide_selector, header_hide_download, hide_poweredby, block_selector_callbacks, pos_label, fluid, **kwargs)\u001b[0m\n\u001b[0;32m    104\u001b[0m \u001b[39massert\u001b[39;00m \u001b[39mlen\u001b[39m(\u001b[39mself\u001b[39m\u001b[39m.\u001b[39mtabs) \u001b[39m>\u001b[39m \u001b[39m0\u001b[39m, \u001b[39m'\u001b[39m\u001b[39mWhen passing a list to tabs, need to pass at least one valid tab!\u001b[39m\u001b[39m'\u001b[39m\n\u001b[0;32m    106\u001b[0m \u001b[39mself\u001b[39m\u001b[39m.\u001b[39mregister_components(\u001b[39m*\u001b[39m\u001b[39mself\u001b[39m\u001b[39m.\u001b[39mtabs)\n\u001b[1;32m--> 108\u001b[0m \u001b[39mself\u001b[39m\u001b[39m.\u001b[39mdownloadable_tabs \u001b[39m=\u001b[39m [tab \u001b[39mfor\u001b[39;00m tab \u001b[39min\u001b[39;00m \u001b[39mself\u001b[39m\u001b[39m.\u001b[39mtabs \u001b[39mif\u001b[39;00m tab\u001b[39m.\u001b[39mto_html(add_header\u001b[39m=\u001b[39m\u001b[39mFalse\u001b[39;00m) \u001b[39m!=\u001b[39m \u001b[39m\"\u001b[39m\u001b[39m<div></div>\u001b[39m\u001b[39m\"\u001b[39m]\n\u001b[0;32m    109\u001b[0m \u001b[39mif\u001b[39;00m \u001b[39mnot\u001b[39;00m \u001b[39mself\u001b[39m\u001b[39m.\u001b[39mdownloadable_tabs:\n\u001b[0;32m    110\u001b[0m     \u001b[39mself\u001b[39m\u001b[39m.\u001b[39mheader_hide_download \u001b[39m=\u001b[39m \u001b[39mTrue\u001b[39;00m\n",
      "File \u001b[1;32mc:\\Users\\gaspa\\AppData\\Local\\Programs\\Python\\Python310\\lib\\site-packages\\explainerdashboard\\dashboards.py:108\u001b[0m, in \u001b[0;36m<listcomp>\u001b[1;34m(.0)\u001b[0m\n\u001b[0;32m    104\u001b[0m \u001b[39massert\u001b[39;00m \u001b[39mlen\u001b[39m(\u001b[39mself\u001b[39m\u001b[39m.\u001b[39mtabs) \u001b[39m>\u001b[39m \u001b[39m0\u001b[39m, \u001b[39m'\u001b[39m\u001b[39mWhen passing a list to tabs, need to pass at least one valid tab!\u001b[39m\u001b[39m'\u001b[39m\n\u001b[0;32m    106\u001b[0m \u001b[39mself\u001b[39m\u001b[39m.\u001b[39mregister_components(\u001b[39m*\u001b[39m\u001b[39mself\u001b[39m\u001b[39m.\u001b[39mtabs)\n\u001b[1;32m--> 108\u001b[0m \u001b[39mself\u001b[39m\u001b[39m.\u001b[39mdownloadable_tabs \u001b[39m=\u001b[39m [tab \u001b[39mfor\u001b[39;00m tab \u001b[39min\u001b[39;00m \u001b[39mself\u001b[39m\u001b[39m.\u001b[39mtabs \u001b[39mif\u001b[39;00m tab\u001b[39m.\u001b[39;49mto_html(add_header\u001b[39m=\u001b[39;49m\u001b[39mFalse\u001b[39;49;00m) \u001b[39m!=\u001b[39m \u001b[39m\"\u001b[39m\u001b[39m<div></div>\u001b[39m\u001b[39m\"\u001b[39m]\n\u001b[0;32m    109\u001b[0m \u001b[39mif\u001b[39;00m \u001b[39mnot\u001b[39;00m \u001b[39mself\u001b[39m\u001b[39m.\u001b[39mdownloadable_tabs:\n\u001b[0;32m    110\u001b[0m     \u001b[39mself\u001b[39m\u001b[39m.\u001b[39mheader_hide_download \u001b[39m=\u001b[39m \u001b[39mTrue\u001b[39;00m\n",
      "File \u001b[1;32mc:\\Users\\gaspa\\AppData\\Local\\Programs\\Python\\Python310\\lib\\site-packages\\explainerdashboard\\dashboard_components\\composites.py:197\u001b[0m, in \u001b[0;36mClassifierModelStatsComposite.to_html\u001b[1;34m(self, state_dict, add_header)\u001b[0m\n\u001b[0;32m    194\u001b[0m \u001b[39mdef\u001b[39;00m \u001b[39mto_html\u001b[39m(\u001b[39mself\u001b[39m, state_dict\u001b[39m=\u001b[39m\u001b[39mNone\u001b[39;00m, add_header\u001b[39m=\u001b[39m\u001b[39mTrue\u001b[39;00m):\n\u001b[0;32m    195\u001b[0m     html \u001b[39m=\u001b[39m to_html\u001b[39m.\u001b[39mhide(to_html\u001b[39m.\u001b[39mtitle(\u001b[39mself\u001b[39m\u001b[39m.\u001b[39mtitle), hide\u001b[39m=\u001b[39m\u001b[39mself\u001b[39m\u001b[39m.\u001b[39mhide_title)\n\u001b[0;32m    196\u001b[0m     html \u001b[39m+\u001b[39m\u001b[39m=\u001b[39m to_html\u001b[39m.\u001b[39mcard_rows(\n\u001b[1;32m--> 197\u001b[0m         [to_html\u001b[39m.\u001b[39mhide(\u001b[39mself\u001b[39;49m\u001b[39m.\u001b[39;49msummary\u001b[39m.\u001b[39;49mto_html(state_dict, add_header\u001b[39m=\u001b[39;49m\u001b[39mFalse\u001b[39;49;00m), hide\u001b[39m=\u001b[39m\u001b[39mself\u001b[39m\u001b[39m.\u001b[39mhide_modelsummary),\n\u001b[0;32m    198\u001b[0m          to_html\u001b[39m.\u001b[39mhide(\u001b[39mself\u001b[39m\u001b[39m.\u001b[39mconfusionmatrix\u001b[39m.\u001b[39mto_html(state_dict, add_header\u001b[39m=\u001b[39m\u001b[39mFalse\u001b[39;00m), hide\u001b[39m=\u001b[39m\u001b[39mself\u001b[39m\u001b[39m.\u001b[39mhide_confusionmatrix)],\n\u001b[0;32m    199\u001b[0m         [to_html\u001b[39m.\u001b[39mhide(\u001b[39mself\u001b[39m\u001b[39m.\u001b[39mprecision\u001b[39m.\u001b[39mto_html(state_dict, add_header\u001b[39m=\u001b[39m\u001b[39mFalse\u001b[39;00m), hide\u001b[39m=\u001b[39m\u001b[39mself\u001b[39m\u001b[39m.\u001b[39mhide_precision), \n\u001b[0;32m    200\u001b[0m          to_html\u001b[39m.\u001b[39mhide(\u001b[39mself\u001b[39m\u001b[39m.\u001b[39mclassification\u001b[39m.\u001b[39mto_html(state_dict, add_header\u001b[39m=\u001b[39m\u001b[39mFalse\u001b[39;00m), hide\u001b[39m=\u001b[39m\u001b[39mself\u001b[39m\u001b[39m.\u001b[39mhide_classification)],\n\u001b[0;32m    201\u001b[0m         [to_html\u001b[39m.\u001b[39mhide(\u001b[39mself\u001b[39m\u001b[39m.\u001b[39mrocauc\u001b[39m.\u001b[39mto_html(state_dict, add_header\u001b[39m=\u001b[39m\u001b[39mFalse\u001b[39;00m), hide\u001b[39m=\u001b[39m\u001b[39mself\u001b[39m\u001b[39m.\u001b[39mhide_rocauc),\n\u001b[0;32m    202\u001b[0m          to_html\u001b[39m.\u001b[39mhide(\u001b[39mself\u001b[39m\u001b[39m.\u001b[39mprauc\u001b[39m.\u001b[39mto_html(state_dict, add_header\u001b[39m=\u001b[39m\u001b[39mFalse\u001b[39;00m), hide\u001b[39m=\u001b[39m\u001b[39mself\u001b[39m\u001b[39m.\u001b[39mhide_prauc)],\n\u001b[0;32m    203\u001b[0m         [to_html\u001b[39m.\u001b[39mhide(\u001b[39mself\u001b[39m\u001b[39m.\u001b[39mliftcurve\u001b[39m.\u001b[39mto_html(state_dict, add_header\u001b[39m=\u001b[39m\u001b[39mFalse\u001b[39;00m), hide\u001b[39m=\u001b[39m\u001b[39mself\u001b[39m\u001b[39m.\u001b[39mhide_liftcurve),\n\u001b[0;32m    204\u001b[0m          to_html\u001b[39m.\u001b[39mhide(\u001b[39mself\u001b[39m\u001b[39m.\u001b[39mcumulative_precision\u001b[39m.\u001b[39mto_html(state_dict, add_header\u001b[39m=\u001b[39m\u001b[39mFalse\u001b[39;00m), hide\u001b[39m=\u001b[39m\u001b[39mself\u001b[39m\u001b[39m.\u001b[39mhide_cumprecision)]\n\u001b[0;32m    205\u001b[0m     )\n\u001b[0;32m    206\u001b[0m     \u001b[39mif\u001b[39;00m add_header:\n\u001b[0;32m    207\u001b[0m         \u001b[39mreturn\u001b[39;00m to_html\u001b[39m.\u001b[39madd_header(html)\n",
      "File \u001b[1;32mc:\\Users\\gaspa\\AppData\\Local\\Programs\\Python\\Python310\\lib\\site-packages\\explainerdashboard\\dashboard_components\\classifier_components.py:1633\u001b[0m, in \u001b[0;36mClassifierModelSummaryComponent.to_html\u001b[1;34m(self, state_dict, add_header)\u001b[0m\n\u001b[0;32m   1631\u001b[0m \u001b[39mdef\u001b[39;00m \u001b[39mto_html\u001b[39m(\u001b[39mself\u001b[39m, state_dict\u001b[39m=\u001b[39m\u001b[39mNone\u001b[39;00m, add_header\u001b[39m=\u001b[39m\u001b[39mTrue\u001b[39;00m):\n\u001b[0;32m   1632\u001b[0m     args \u001b[39m=\u001b[39m \u001b[39mself\u001b[39m\u001b[39m.\u001b[39mget_state_args(state_dict)\n\u001b[1;32m-> 1633\u001b[0m     metrics_df \u001b[39m=\u001b[39m \u001b[39mself\u001b[39;49m\u001b[39m.\u001b[39;49m_get_metrics_df(args[\u001b[39m'\u001b[39;49m\u001b[39mcutoff\u001b[39;49m\u001b[39m'\u001b[39;49m], args[\u001b[39m'\u001b[39;49m\u001b[39mpos_label\u001b[39;49m\u001b[39m'\u001b[39;49m])\n\u001b[0;32m   1634\u001b[0m     html \u001b[39m=\u001b[39m to_html\u001b[39m.\u001b[39mtable_from_df(metrics_df)\n\u001b[0;32m   1635\u001b[0m     html \u001b[39m=\u001b[39m to_html\u001b[39m.\u001b[39mcard(html, title\u001b[39m=\u001b[39m\u001b[39mself\u001b[39m\u001b[39m.\u001b[39mtitle)\n",
      "File \u001b[1;32mc:\\Users\\gaspa\\AppData\\Local\\Programs\\Python\\Python310\\lib\\site-packages\\explainerdashboard\\dashboard_components\\classifier_components.py:1642\u001b[0m, in \u001b[0;36mClassifierModelSummaryComponent._get_metrics_df\u001b[1;34m(self, cutoff, pos_label)\u001b[0m\n\u001b[0;32m   1640\u001b[0m \u001b[39mdef\u001b[39;00m \u001b[39m_get_metrics_df\u001b[39m(\u001b[39mself\u001b[39m, cutoff, pos_label):\n\u001b[0;32m   1641\u001b[0m     metrics_df \u001b[39m=\u001b[39m (pd\u001b[39m.\u001b[39mDataFrame(\n\u001b[1;32m-> 1642\u001b[0m                             \u001b[39mself\u001b[39;49m\u001b[39m.\u001b[39;49mexplainer\u001b[39m.\u001b[39;49mmetrics(cutoff\u001b[39m=\u001b[39;49mcutoff, pos_label\u001b[39m=\u001b[39;49mpos_label, \n\u001b[0;32m   1643\u001b[0m                                                     show_metrics\u001b[39m=\u001b[39;49m\u001b[39mself\u001b[39;49m\u001b[39m.\u001b[39;49mshow_metrics), \n\u001b[0;32m   1644\u001b[0m                             index\u001b[39m=\u001b[39m[\u001b[39m\"\u001b[39m\u001b[39mScore\u001b[39m\u001b[39m\"\u001b[39m])\n\u001b[0;32m   1645\u001b[0m                           \u001b[39m.\u001b[39mT\u001b[39m.\u001b[39mrename_axis(index\u001b[39m=\u001b[39m\u001b[39m\"\u001b[39m\u001b[39mmetric\u001b[39m\u001b[39m\"\u001b[39m)\u001b[39m.\u001b[39mreset_index()\n\u001b[0;32m   1646\u001b[0m                           \u001b[39m.\u001b[39mround(\u001b[39mself\u001b[39m\u001b[39m.\u001b[39mround))\n\u001b[0;32m   1647\u001b[0m     \u001b[39mreturn\u001b[39;00m metrics_df\n",
      "File \u001b[1;32mc:\\Users\\gaspa\\AppData\\Local\\Programs\\Python\\Python310\\lib\\site-packages\\explainerdashboard\\explainers.py:61\u001b[0m, in \u001b[0;36minsert_pos_label.<locals>.inner\u001b[1;34m(self, *args, **kwargs)\u001b[0m\n\u001b[0;32m     58\u001b[0m     \u001b[39melse\u001b[39;00m:  \n\u001b[0;32m     59\u001b[0m         \u001b[39m# insert self.pos_label \u001b[39;00m\n\u001b[0;32m     60\u001b[0m         kwargs\u001b[39m.\u001b[39mupdate(\u001b[39mdict\u001b[39m(pos_label\u001b[39m=\u001b[39m\u001b[39mself\u001b[39m\u001b[39m.\u001b[39mpos_label))\n\u001b[1;32m---> 61\u001b[0m         \u001b[39mreturn\u001b[39;00m func(\u001b[39mself\u001b[39m, \u001b[39m*\u001b[39margs, \u001b[39m*\u001b[39m\u001b[39m*\u001b[39mkwargs)\n\u001b[0;32m     62\u001b[0m kwargs\u001b[39m.\u001b[39mupdate(\u001b[39mdict\u001b[39m(\u001b[39mzip\u001b[39m(inspect\u001b[39m.\u001b[39mgetfullargspec(func)\u001b[39m.\u001b[39margs[\u001b[39m1\u001b[39m:\u001b[39m1\u001b[39m\u001b[39m+\u001b[39m\u001b[39mlen\u001b[39m(args)], args)))\n\u001b[0;32m     63\u001b[0m \u001b[39mif\u001b[39;00m \u001b[39m'\u001b[39m\u001b[39mpos_label\u001b[39m\u001b[39m'\u001b[39m \u001b[39min\u001b[39;00m kwargs:\n",
      "File \u001b[1;32mc:\\Users\\gaspa\\AppData\\Local\\Programs\\Python\\Python310\\lib\\site-packages\\explainerdashboard\\explainers.py:2588\u001b[0m, in \u001b[0;36mClassifierExplainer.metrics\u001b[1;34m(self, cutoff, show_metrics, pos_label)\u001b[0m\n\u001b[0;32m   2585\u001b[0m         \u001b[39mself\u001b[39m\u001b[39m.\u001b[39m_metrics[label] \u001b[39m=\u001b[39m \u001b[39mdict\u001b[39m()\n\u001b[0;32m   2586\u001b[0m         \u001b[39mfor\u001b[39;00m cut \u001b[39min\u001b[39;00m np\u001b[39m.\u001b[39mlinspace(\u001b[39m1\u001b[39m, \u001b[39m99\u001b[39m, \u001b[39m99\u001b[39m, dtype\u001b[39m=\u001b[39m\u001b[39mint\u001b[39m):\n\u001b[0;32m   2587\u001b[0m             \u001b[39mself\u001b[39m\u001b[39m.\u001b[39m_metrics[label][cut] \u001b[39m=\u001b[39m \\\n\u001b[1;32m-> 2588\u001b[0m                 get_metrics(\u001b[39m0.01\u001b[39;49m\u001b[39m*\u001b[39;49mcut, label)\n\u001b[0;32m   2589\u001b[0m \u001b[39melse\u001b[39;00m:\n\u001b[0;32m   2590\u001b[0m     \u001b[39mself\u001b[39m\u001b[39m.\u001b[39m_metrics \u001b[39m=\u001b[39m get_cv_metrics(\u001b[39mself\u001b[39m\u001b[39m.\u001b[39mcv)\n",
      "File \u001b[1;32mc:\\Users\\gaspa\\AppData\\Local\\Programs\\Python\\Python310\\lib\\site-packages\\explainerdashboard\\explainers.py:2539\u001b[0m, in \u001b[0;36mClassifierExplainer.metrics.<locals>.get_metrics\u001b[1;34m(cutoff, pos_label)\u001b[0m\n\u001b[0;32m   2531\u001b[0m y_true \u001b[39m=\u001b[39m \u001b[39mself\u001b[39m\u001b[39m.\u001b[39my_binary(pos_label)\n\u001b[0;32m   2532\u001b[0m y_pred \u001b[39m=\u001b[39m np\u001b[39m.\u001b[39mwhere(\u001b[39mself\u001b[39m\u001b[39m.\u001b[39mpred_probas(pos_label) \u001b[39m>\u001b[39m cutoff, \u001b[39m1\u001b[39m, \u001b[39m0\u001b[39m)\n\u001b[0;32m   2534\u001b[0m metrics_dict \u001b[39m=\u001b[39m {\n\u001b[0;32m   2535\u001b[0m     \u001b[39m'\u001b[39m\u001b[39maccuracy\u001b[39m\u001b[39m'\u001b[39m : accuracy_score(y_true, y_pred),\n\u001b[0;32m   2536\u001b[0m     \u001b[39m'\u001b[39m\u001b[39mprecision\u001b[39m\u001b[39m'\u001b[39m : precision_score(y_true, y_pred, zero_division\u001b[39m=\u001b[39m\u001b[39m0\u001b[39m),\n\u001b[0;32m   2537\u001b[0m     \u001b[39m'\u001b[39m\u001b[39mrecall\u001b[39m\u001b[39m'\u001b[39m : recall_score(y_true, y_pred),\n\u001b[0;32m   2538\u001b[0m     \u001b[39m'\u001b[39m\u001b[39mf1\u001b[39m\u001b[39m'\u001b[39m : f1_score(y_true, y_pred),\n\u001b[1;32m-> 2539\u001b[0m     \u001b[39m'\u001b[39m\u001b[39mroc_auc_score\u001b[39m\u001b[39m'\u001b[39m : roc_auc_score(y_true, \u001b[39mself\u001b[39;49m\u001b[39m.\u001b[39;49mpred_probas(pos_label)),\n\u001b[0;32m   2540\u001b[0m     \u001b[39m'\u001b[39m\u001b[39mpr_auc_score\u001b[39m\u001b[39m'\u001b[39m : average_precision_score(y_true, \u001b[39mself\u001b[39m\u001b[39m.\u001b[39mpred_probas(pos_label)),\n\u001b[0;32m   2541\u001b[0m     \u001b[39m'\u001b[39m\u001b[39mlog_loss\u001b[39m\u001b[39m'\u001b[39m : log_loss(y_true, \u001b[39mself\u001b[39m\u001b[39m.\u001b[39mpred_probas(pos_label))\n\u001b[0;32m   2542\u001b[0m }\n\u001b[0;32m   2543\u001b[0m \u001b[39mreturn\u001b[39;00m metrics_dict\n",
      "File \u001b[1;32mc:\\Users\\gaspa\\AppData\\Local\\Programs\\Python\\Python310\\lib\\site-packages\\sklearn\\metrics\\_ranking.py:571\u001b[0m, in \u001b[0;36mroc_auc_score\u001b[1;34m(y_true, y_score, average, sample_weight, max_fpr, multi_class, labels)\u001b[0m\n\u001b[0;32m    569\u001b[0m     labels \u001b[39m=\u001b[39m np\u001b[39m.\u001b[39munique(y_true)\n\u001b[0;32m    570\u001b[0m     y_true \u001b[39m=\u001b[39m label_binarize(y_true, classes\u001b[39m=\u001b[39mlabels)[:, \u001b[39m0\u001b[39m]\n\u001b[1;32m--> 571\u001b[0m     \u001b[39mreturn\u001b[39;00m _average_binary_score(\n\u001b[0;32m    572\u001b[0m         partial(_binary_roc_auc_score, max_fpr\u001b[39m=\u001b[39;49mmax_fpr),\n\u001b[0;32m    573\u001b[0m         y_true,\n\u001b[0;32m    574\u001b[0m         y_score,\n\u001b[0;32m    575\u001b[0m         average,\n\u001b[0;32m    576\u001b[0m         sample_weight\u001b[39m=\u001b[39;49msample_weight,\n\u001b[0;32m    577\u001b[0m     )\n\u001b[0;32m    578\u001b[0m \u001b[39melse\u001b[39;00m:  \u001b[39m# multilabel-indicator\u001b[39;00m\n\u001b[0;32m    579\u001b[0m     \u001b[39mreturn\u001b[39;00m _average_binary_score(\n\u001b[0;32m    580\u001b[0m         partial(_binary_roc_auc_score, max_fpr\u001b[39m=\u001b[39mmax_fpr),\n\u001b[0;32m    581\u001b[0m         y_true,\n\u001b[1;32m   (...)\u001b[0m\n\u001b[0;32m    584\u001b[0m         sample_weight\u001b[39m=\u001b[39msample_weight,\n\u001b[0;32m    585\u001b[0m     )\n",
      "File \u001b[1;32mc:\\Users\\gaspa\\AppData\\Local\\Programs\\Python\\Python310\\lib\\site-packages\\sklearn\\metrics\\_base.py:75\u001b[0m, in \u001b[0;36m_average_binary_score\u001b[1;34m(binary_metric, y_true, y_score, average, sample_weight)\u001b[0m\n\u001b[0;32m     72\u001b[0m     \u001b[39mraise\u001b[39;00m \u001b[39mValueError\u001b[39;00m(\u001b[39m\"\u001b[39m\u001b[39m{0}\u001b[39;00m\u001b[39m format is not supported\u001b[39m\u001b[39m\"\u001b[39m\u001b[39m.\u001b[39mformat(y_type))\n\u001b[0;32m     74\u001b[0m \u001b[39mif\u001b[39;00m y_type \u001b[39m==\u001b[39m \u001b[39m\"\u001b[39m\u001b[39mbinary\u001b[39m\u001b[39m\"\u001b[39m:\n\u001b[1;32m---> 75\u001b[0m     \u001b[39mreturn\u001b[39;00m binary_metric(y_true, y_score, sample_weight\u001b[39m=\u001b[39;49msample_weight)\n\u001b[0;32m     77\u001b[0m check_consistent_length(y_true, y_score, sample_weight)\n\u001b[0;32m     78\u001b[0m y_true \u001b[39m=\u001b[39m check_array(y_true)\n",
      "File \u001b[1;32mc:\\Users\\gaspa\\AppData\\Local\\Programs\\Python\\Python310\\lib\\site-packages\\sklearn\\metrics\\_ranking.py:339\u001b[0m, in \u001b[0;36m_binary_roc_auc_score\u001b[1;34m(y_true, y_score, sample_weight, max_fpr)\u001b[0m\n\u001b[0;32m    337\u001b[0m \u001b[39m\"\"\"Binary roc auc score.\"\"\"\u001b[39;00m\n\u001b[0;32m    338\u001b[0m \u001b[39mif\u001b[39;00m \u001b[39mlen\u001b[39m(np\u001b[39m.\u001b[39munique(y_true)) \u001b[39m!=\u001b[39m \u001b[39m2\u001b[39m:\n\u001b[1;32m--> 339\u001b[0m     \u001b[39mraise\u001b[39;00m \u001b[39mValueError\u001b[39;00m(\n\u001b[0;32m    340\u001b[0m         \u001b[39m\"\u001b[39m\u001b[39mOnly one class present in y_true. ROC AUC score \u001b[39m\u001b[39m\"\u001b[39m\n\u001b[0;32m    341\u001b[0m         \u001b[39m\"\u001b[39m\u001b[39mis not defined in that case.\u001b[39m\u001b[39m\"\u001b[39m\n\u001b[0;32m    342\u001b[0m     )\n\u001b[0;32m    344\u001b[0m fpr, tpr, _ \u001b[39m=\u001b[39m roc_curve(y_true, y_score, sample_weight\u001b[39m=\u001b[39msample_weight)\n\u001b[0;32m    345\u001b[0m \u001b[39mif\u001b[39;00m max_fpr \u001b[39mis\u001b[39;00m \u001b[39mNone\u001b[39;00m \u001b[39mor\u001b[39;00m max_fpr \u001b[39m==\u001b[39m \u001b[39m1\u001b[39m:\n",
      "\u001b[1;31mValueError\u001b[0m: Only one class present in y_true. ROC AUC score is not defined in that case."
     ]
    }
   ],
   "source": [
    "from explainerdashboard import ClassifierExplainer, ExplainerDashboard\n",
    "\n",
    "ExplainerDashboard(ClassifierExplainer(rf, X_test, y_test,labels=[\"mod_L\",\"mod_R\",\"mod_M\"]), title=\"Dolphins\", model_summary=True,hide_rocauc=True).run()"
   ]
  }
 ],
 "metadata": {
  "kernelspec": {
   "display_name": "Python 3",
   "language": "python",
   "name": "python3"
  },
  "language_info": {
   "codemirror_mode": {
    "name": "ipython",
    "version": 3
   },
   "file_extension": ".py",
   "mimetype": "text/x-python",
   "name": "python",
   "nbconvert_exporter": "python",
   "pygments_lexer": "ipython3",
   "version": "3.10.7 (tags/v3.10.7:6cc6b13, Sep  5 2022, 14:08:36) [MSC v.1933 64 bit (AMD64)]"
  },
  "orig_nbformat": 4,
  "vscode": {
   "interpreter": {
    "hash": "53bdaf3e29708bc7bd0d80837e40a4e4351b098c4e4188c559773bf7015563e6"
   }
  }
 },
 "nbformat": 4,
 "nbformat_minor": 2
}
